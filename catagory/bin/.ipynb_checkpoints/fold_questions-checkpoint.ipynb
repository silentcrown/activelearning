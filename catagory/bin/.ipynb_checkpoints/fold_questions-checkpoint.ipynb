{
 "cells": [
  {
   "cell_type": "code",
   "execution_count": 1,
   "metadata": {},
   "outputs": [
    {
     "name": "stderr",
     "output_type": "stream",
     "text": [
      "Building prefix dict from the default dictionary ...\n",
      "Loading model from cache /tmp/jieba.cache\n",
      "Loading model cost 0.292 seconds.\n",
      "Prefix dict has been built succesfully.\n"
     ]
    },
    {
     "name": "stdout",
     "output_type": "stream",
     "text": [
      "load 1006 user-define jieba dict success!\n"
     ]
    }
   ],
   "source": [
    "import pandas as pd\n",
    "import numpy as np\n",
    "import random\n",
    "from intent_classify import IntentClassify\n",
    "from gensim import corpora, models, similarities,matutils\n",
    "from fasttext_util import FasttextClassifier\n",
    "import time\n",
    "from collections import Counter\n",
    "from sklearn.cluster import KMeans\n",
    "import jieba\n",
    "import matplotlib.pyplot as plt\n",
    "%matplotlib inline\n"
   ]
  },
  {
   "cell_type": "code",
   "execution_count": 2,
   "metadata": {},
   "outputs": [],
   "source": [
    "class word():    \n",
    "    def __init__(self):\n",
    "        self.word_to_vec = {}\n",
    "        self.dictionary = corpora.dictionary.Dictionary()\n",
    "        self.dic = self.dictionary.load('../util/new/laiye/corpus.dict')\n",
    "        self.tfidf = models.TfidfModel.load('../util/new/laiye/corpus.tfidf_model')  \n",
    "        \n",
    "    def remove_punctuation(self, line):\n",
    "        rule = re.compile(ur\"[^a-zA-Z0-9\\u4e00-\\u9fa5]\")\n",
    "        line = rule.sub('',line)\n",
    "        return line        \n",
    "\n",
    "    def stopwordslist(self, filepath):  \n",
    "        stopwords = [line.strip() for line in open(filepath, 'r').readlines()]  \n",
    "        return stopwords  \n",
    "\n",
    "\n",
    "    # 对句子进行分词  \n",
    "    def jieba_cut(self, sentence):  \n",
    "        sentence_seged = jieba.cut(sentence.strip())  \n",
    "        stopwords = self.stopwordslist('../util/new/laiye/stopword.txt')  # 这里加载停用词的路径  \n",
    "        outstr = ''  \n",
    "        for word in sentence_seged:  \n",
    "            if word.encode('utf-8') not in stopwords:  \n",
    "                if word.encode('utf-8') != '\\t' and word != '\\t':  \n",
    "                    outstr += word\n",
    "                    outstr += \" \"  \n",
    "        return outstr.strip()\n",
    "\n",
    "    def get_word2vec(self):\n",
    "        with open('../util/new/laiye/w2v_sgns_win1_d80.kv') as f:\n",
    "            data = [x.split(' ') for x in f.readlines()[1:]]\n",
    "            words = [d[0] for d in data]\n",
    "            vecs = np.array([d[1: -1] for d in data], dtype= 'float64')\n",
    "            for i in range(len(words)):\n",
    "                word = words[i]\n",
    "                self.word_to_vec[word] = vecs[i]\n",
    "    def get_tf_idf_of_query(self, query, dic, tfidf):      \n",
    "        vec_bow = dic.doc2bow(query)\n",
    "        vec_tfidf = tfidf[vec_bow]\n",
    "        tp = [0.0] * len(query)\n",
    "        ids = [tid[0] for tid in vec_tfidf]\n",
    "        flags = [0] * len(query)\n",
    "        count = 0.00001\n",
    "        for j in range(len(query)):\n",
    "            for i in range(len(ids)):\n",
    "                if self.dic[ids[i]] == query[j]:\n",
    "                    tp[j] = vec_tfidf[i][1]\n",
    "                    flags[j] = 1\n",
    "                    count += 1\n",
    "                    break\n",
    "        sums = sum(tp)\n",
    "        #print ','.join(query)\n",
    "        for i in range(len(flags)):\n",
    "            if flags[i] == 1:\n",
    "                continue\n",
    "            tp[i] = 1.0 * sums / count\n",
    "                    \n",
    "        # apply l1-norm to tfidf value\n",
    "        #tfidf = matutils.unitvec(vec_tfidf, norm = 'l1')   \n",
    "        return tp\n",
    "\n",
    "    def get_vectors_of_data_cut(self, data):\n",
    "        vecs = []\n",
    "        for i in range(len(data)):\n",
    "            vec = []\n",
    "            d_line = self.jieba_cut(data[i]).split(' ')\n",
    "            tfidfs = self.get_tf_idf_of_query(d_line, self.dic, self.tfidf)\n",
    "            s = sum(tfidfs)\n",
    "            for j in range(len(d_line)):\n",
    "                if d_line[j].encode('utf-8') in self.word_to_vec:\n",
    "                    if s == 0:\n",
    "                        vec.append([0.0] * len(self.word_to_vec['家']))\n",
    "                    else:\n",
    "                        vec.append((tfidfs[j] / s) * self.word_to_vec[d_line[j].encode('utf-8')])\n",
    "            if len(vec) == 0:\n",
    "                vec.append([0.0] * len(self.word_to_vec['家']))\n",
    "            vecs.append(np.sum(np.array(vec), axis = 0))\n",
    "        return np.array(vecs)    \n",
    "    "
   ]
  },
  {
   "cell_type": "code",
   "execution_count": 7,
   "metadata": {},
   "outputs": [],
   "source": [
    "class fold():\n",
    "    def __init__(self, classCount, texts):\n",
    "        self.texts = texts\n",
    "        self.classCount = classCount\n",
    "        \n",
    "    def wordsCluster(self, word_vecs):\n",
    "        #分类\n",
    "        clf = KMeans(n_clusters = self.classCount)\n",
    "        s = clf.fit(word_vecs)\n",
    "        #获取到所有词向量所属类别\n",
    "        labels = clf.labels_\n",
    "        cluster_dic = {}\n",
    "        #把是一类的放入到一个集合\n",
    "        for i in range(len(self.texts)):\n",
    "            if labels[i] not in cluster_dic:\n",
    "                cluster_dic[labels[i]] = texts[i]\n",
    "            else:\n",
    "                cluster_dic[labels[i]] = cluster_dic[labels[i]] + ' ' + texts[i]\n",
    "        label_pred = clf.labels_ #获取聚类标签\n",
    "        centroids = clf.cluster_centers_ #获取聚类中心\n",
    "        inertia = clf.inertia_ # 获取聚类准则的总和\n",
    "        print inertia\n",
    "        mark = ['or', 'ob', 'og', 'ok', '^r', '+r', 'sr', 'dr', '<r', 'pr']\n",
    "        #这里'or'代表中的'o'代表画圈，'r'代表颜色为红色，后面的依次类推\n",
    "        color = 0\n",
    "        j = 0 \n",
    "        for i in label_pred:\n",
    "            plt.plot([word_vecs[j:j+1,0]], [word_vecs[j:j+1,1]], mark[i], markersize = 5)\n",
    "            j +=1\n",
    "        plt.show()\n",
    "\n",
    "        return cluster_dic"
   ]
  },
  {
   "cell_type": "code",
   "execution_count": 16,
   "metadata": {},
   "outputs": [
    {
     "name": "stdout",
     "output_type": "stream",
     "text": [
      "69.38140107010133\n"
     ]
    },
    {
     "data": {
      "image/png": "[encoded data removed]",
      "text/plain": [
       "<Figure size 432x288 with 1 Axes>"
      ]
     },
     "metadata": {},
     "output_type": "display_data"
    },
    {
     "name": "stdout",
     "output_type": "stream",
     "text": [
      "0\n",
      "能陪聊天吗？ 陪我聊天 能陪我聊天吗？ 你能跟我聊天吗? 咱俩还能聊天啊? 还能不能愉快的聊天了 能不能聊天 不会吧这个助理可以陪着聊天吗\n",
      "1\n",
      "陪聊嘛？ 你能告诉我你是谁 你是不是擅长聊天 你是不是什么都懂 你总是那么懂我\n",
      "2\n",
      "陪我说会儿话 陪我聊几句呗？ 陪我说说话呗 你能陪我聊会天吗 也就只有你陪在我身边 陪我聊会吧 陪我聊会天/:8-)\n"
     ]
    },
    {
     "ename": "ValueError",
     "evalue": "n_samples=1 should be >= n_clusters=3",
     "output_type": "error",
     "traceback": [
      "\u001b[0;31m\u001b[0m",
      "\u001b[0;31mValueError\u001b[0mTraceback (most recent call last)",
      "\u001b[0;32m<ipython-input-16-2d3e03b4d4bc>\u001b[0m in \u001b[0;36m<module>\u001b[0;34m()\u001b[0m\n\u001b[1;32m      7\u001b[0m         \u001b[0mword_vecs\u001b[0m \u001b[0;34m=\u001b[0m \u001b[0mword_util\u001b[0m\u001b[0;34m.\u001b[0m\u001b[0mget_vectors_of_data_cut\u001b[0m\u001b[0;34m(\u001b[0m\u001b[0mtexts\u001b[0m\u001b[0;34m)\u001b[0m\u001b[0;34m\u001b[0m\u001b[0m\n\u001b[1;32m      8\u001b[0m         \u001b[0mfold_result\u001b[0m \u001b[0;34m=\u001b[0m \u001b[0mfold\u001b[0m\u001b[0;34m(\u001b[0m\u001b[0mclassCount\u001b[0m \u001b[0;34m=\u001b[0m \u001b[0;36m3\u001b[0m\u001b[0;34m,\u001b[0m \u001b[0mtexts\u001b[0m \u001b[0;34m=\u001b[0m \u001b[0mtexts\u001b[0m\u001b[0;34m)\u001b[0m\u001b[0;34m\u001b[0m\u001b[0m\n\u001b[0;32m----> 9\u001b[0;31m         \u001b[0mresult\u001b[0m \u001b[0;34m=\u001b[0m \u001b[0mfold_result\u001b[0m\u001b[0;34m.\u001b[0m\u001b[0mwordsCluster\u001b[0m\u001b[0;34m(\u001b[0m\u001b[0mword_vecs\u001b[0m\u001b[0;34m)\u001b[0m\u001b[0;34m\u001b[0m\u001b[0m\n\u001b[0m\u001b[1;32m     10\u001b[0m         \u001b[0;32mfor\u001b[0m \u001b[0mkey\u001b[0m \u001b[0;32min\u001b[0m \u001b[0mresult\u001b[0m\u001b[0;34m:\u001b[0m\u001b[0;34m\u001b[0m\u001b[0m\n\u001b[1;32m     11\u001b[0m             \u001b[0;32mprint\u001b[0m \u001b[0mkey\u001b[0m\u001b[0;34m\u001b[0m\u001b[0m\n",
      "\u001b[0;32m<ipython-input-7-6f5af24008e3>\u001b[0m in \u001b[0;36mwordsCluster\u001b[0;34m(self, word_vecs)\u001b[0m\n\u001b[1;32m      7\u001b[0m         \u001b[0;31m#分类\u001b[0m\u001b[0;34m\u001b[0m\u001b[0;34m\u001b[0m\u001b[0m\n\u001b[1;32m      8\u001b[0m         \u001b[0mclf\u001b[0m \u001b[0;34m=\u001b[0m \u001b[0mKMeans\u001b[0m\u001b[0;34m(\u001b[0m\u001b[0mn_clusters\u001b[0m \u001b[0;34m=\u001b[0m \u001b[0mself\u001b[0m\u001b[0;34m.\u001b[0m\u001b[0mclassCount\u001b[0m\u001b[0;34m)\u001b[0m\u001b[0;34m\u001b[0m\u001b[0m\n\u001b[0;32m----> 9\u001b[0;31m         \u001b[0ms\u001b[0m \u001b[0;34m=\u001b[0m \u001b[0mclf\u001b[0m\u001b[0;34m.\u001b[0m\u001b[0mfit\u001b[0m\u001b[0;34m(\u001b[0m\u001b[0mword_vecs\u001b[0m\u001b[0;34m)\u001b[0m\u001b[0;34m\u001b[0m\u001b[0m\n\u001b[0m\u001b[1;32m     10\u001b[0m         \u001b[0;31m#获取到所有词向量所属类别\u001b[0m\u001b[0;34m\u001b[0m\u001b[0;34m\u001b[0m\u001b[0m\n\u001b[1;32m     11\u001b[0m         \u001b[0mlabels\u001b[0m \u001b[0;34m=\u001b[0m \u001b[0mclf\u001b[0m\u001b[0;34m.\u001b[0m\u001b[0mlabels_\u001b[0m\u001b[0;34m\u001b[0m\u001b[0m\n",
      "\u001b[0;32m/home/works/dl-tools/anaconda2/envs/tfenv.v1.2/lib/python2.7/site-packages/sklearn/cluster/k_means_.pyc\u001b[0m in \u001b[0;36mfit\u001b[0;34m(self, X, y)\u001b[0m\n\u001b[1;32m    882\u001b[0m         \"\"\"\n\u001b[1;32m    883\u001b[0m         \u001b[0mrandom_state\u001b[0m \u001b[0;34m=\u001b[0m \u001b[0mcheck_random_state\u001b[0m\u001b[0;34m(\u001b[0m\u001b[0mself\u001b[0m\u001b[0;34m.\u001b[0m\u001b[0mrandom_state\u001b[0m\u001b[0;34m)\u001b[0m\u001b[0;34m\u001b[0m\u001b[0m\n\u001b[0;32m--> 884\u001b[0;31m         \u001b[0mX\u001b[0m \u001b[0;34m=\u001b[0m \u001b[0mself\u001b[0m\u001b[0;34m.\u001b[0m\u001b[0m_check_fit_data\u001b[0m\u001b[0;34m(\u001b[0m\u001b[0mX\u001b[0m\u001b[0;34m)\u001b[0m\u001b[0;34m\u001b[0m\u001b[0m\n\u001b[0m\u001b[1;32m    885\u001b[0m \u001b[0;34m\u001b[0m\u001b[0m\n\u001b[1;32m    886\u001b[0m         \u001b[0mself\u001b[0m\u001b[0;34m.\u001b[0m\u001b[0mcluster_centers_\u001b[0m\u001b[0;34m,\u001b[0m \u001b[0mself\u001b[0m\u001b[0;34m.\u001b[0m\u001b[0mlabels_\u001b[0m\u001b[0;34m,\u001b[0m \u001b[0mself\u001b[0m\u001b[0;34m.\u001b[0m\u001b[0minertia_\u001b[0m\u001b[0;34m,\u001b[0m \u001b[0mself\u001b[0m\u001b[0;34m.\u001b[0m\u001b[0mn_iter_\u001b[0m \u001b[0;34m=\u001b[0m\u001b[0;31m \u001b[0m\u001b[0;31m\\\u001b[0m\u001b[0;34m\u001b[0m\u001b[0m\n",
      "\u001b[0;32m/home/works/dl-tools/anaconda2/envs/tfenv.v1.2/lib/python2.7/site-packages/sklearn/cluster/k_means_.pyc\u001b[0m in \u001b[0;36m_check_fit_data\u001b[0;34m(self, X)\u001b[0m\n\u001b[1;32m    859\u001b[0m         \u001b[0;32mif\u001b[0m \u001b[0mX\u001b[0m\u001b[0;34m.\u001b[0m\u001b[0mshape\u001b[0m\u001b[0;34m[\u001b[0m\u001b[0;36m0\u001b[0m\u001b[0;34m]\u001b[0m \u001b[0;34m<\u001b[0m \u001b[0mself\u001b[0m\u001b[0;34m.\u001b[0m\u001b[0mn_clusters\u001b[0m\u001b[0;34m:\u001b[0m\u001b[0;34m\u001b[0m\u001b[0m\n\u001b[1;32m    860\u001b[0m             raise ValueError(\"n_samples=%d should be >= n_clusters=%d\" % (\n\u001b[0;32m--> 861\u001b[0;31m                 X.shape[0], self.n_clusters))\n\u001b[0m\u001b[1;32m    862\u001b[0m         \u001b[0;32mreturn\u001b[0m \u001b[0mX\u001b[0m\u001b[0;34m\u001b[0m\u001b[0m\n\u001b[1;32m    863\u001b[0m \u001b[0;34m\u001b[0m\u001b[0m\n",
      "\u001b[0;31mValueError\u001b[0m: n_samples=1 should be >= n_clusters=3"
     ]
    }
   ],
   "source": [
    "if __name__==\"__main__\":\n",
    "    data = pd.read_csv('../data/text.csv')\n",
    "    for kno in data['knowledge'].unique():\n",
    "        texts = list(data[data['knowledge'] == kno]['text'])\n",
    "        if len(texts) < 3:\n",
    "            break\n",
    "        word_util = word()\n",
    "        word_util.get_word2vec()\n",
    "        word_vecs = word_util.get_vectors_of_data_cut(texts)\n",
    "        fold_result = fold(classCount = 3, texts = texts)\n",
    "        result = fold_result.wordsCluster(word_vecs)\n",
    "        for key in result:\n",
    "            print key\n",
    "            print result[key]"
   ]
  },
  {
   "cell_type": "code",
   "execution_count": null,
   "metadata": {},
   "outputs": [],
   "source": []
  }
 ],
 "metadata": {
  "kernelspec": {
   "display_name": "Python [conda env:tfenv.v1.2]",
   "language": "python",
   "name": "conda-env-tfenv.v1.2-py"
  },
  "language_info": {
   "codemirror_mode": {
    "name": "ipython",
    "version": 2
   },
   "file_extension": ".py",
   "mimetype": "text/x-python",
   "name": "python",
   "nbconvert_exporter": "python",
   "pygments_lexer": "ipython2",
   "version": "2.7.15"
  }
 },
 "nbformat": 4,
 "nbformat_minor": 2
}
